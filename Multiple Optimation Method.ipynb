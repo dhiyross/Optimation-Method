{
  "nbformat": 4,
  "nbformat_minor": 0,
  "metadata": {
    "colab": {
      "provenance": []
    },
    "kernelspec": {
      "name": "python3",
      "display_name": "Python 3"
    },
    "language_info": {
      "name": "python"
    }
  },
  "cells": [
    {
      "cell_type": "markdown",
      "metadata": {
        "id": "4tWGkhuLBMH4"
      },
      "source": [
        "## **Metode Direct Search**\n"
      ]
    },
    {
      "cell_type": "code",
      "metadata": {
        "id": "858EDgO2Ccud"
      },
      "source": [
        "import math\n",
        "import time"
      ],
      "execution_count": null,
      "outputs": []
    },
    {
      "cell_type": "code",
      "metadata": {
        "id": "-i0Cf3RtrAq5"
      },
      "source": [
        "def fungsi(x):\n",
        "  return x**3-5*x**2+2*x"
      ],
      "execution_count": null,
      "outputs": []
    },
    {
      "cell_type": "code",
      "metadata": {
        "id": "HEfFPqj0u1x9",
        "colab": {
          "base_uri": "https://localhost:8080/"
        },
        "outputId": "b1cf6b0b-dadc-48cf-aeae-bdf49e922055"
      },
      "source": [
        "t0 = time.time()\n",
        "\n",
        "a = 0\n",
        "b = 10\n",
        "n = 100\n",
        "deltx = (b-a)/n\n",
        "x1 = a\n",
        "x2 = x1+deltx\n",
        "x3 = x2+deltx\n",
        "print(x1,x2,x3)\n",
        "print('------------------------------------')\n",
        "y1 = fungsi(x1)\n",
        "y2 = fungsi(x2)\n",
        "y3 = fungsi(x3)\n",
        "print(y1,y2,y3)\n",
        "print('------------------------------------')\n",
        "\n",
        "i = 1\n",
        "while y1 < y2 or y3 < y2:\n",
        "  i+=1\n",
        "  x1 = x2; x2 = x3; x3 = x2+deltx\n",
        "  y1 = fungsi(x1); y2 = fungsi(x2); y3 = fungsi(x3)\n",
        "else:\n",
        "  print('iterasi ke-' + str(i))\n",
        "  print('Titik minimum berada diantara x = ' + str(x1) + ' dan x = ' + str(x3))\n",
        "\n",
        "t1 = time.time()\n",
        "print('Waktu perhitungan adalah '+ str(t1-t0))"
      ],
      "execution_count": null,
      "outputs": [
        {
          "output_type": "stream",
          "name": "stdout",
          "text": [
            "0 0.1 0.2\n",
            "------------------------------------\n",
            "0 0.151 0.208\n",
            "------------------------------------\n",
            "iterasi ke-31\n",
            "Titik minimum berada diantara x = 3.0000000000000013 dan x = 3.2000000000000015\n",
            "Waktu perhitungan adalah 0.003268003463745117\n"
          ]
        }
      ]
    },
    {
      "cell_type": "markdown",
      "metadata": {
        "id": "4oKOFABjD8Mm"
      },
      "source": [
        "## **Metode Bounding Phase Method**"
      ]
    },
    {
      "cell_type": "code",
      "metadata": {
        "colab": {
          "base_uri": "https://localhost:8080/"
        },
        "id": "rLNrYmcdEM6W",
        "outputId": "e1f30e3c-244f-4dd5-bd8d-9c5ac5175326"
      },
      "source": [
        "t0 = time.time()\n",
        "\n",
        "x = []; i = 1\n",
        "x.append(3)\n",
        "delta = 0.001\n",
        "k = 0\n",
        "print(x[0], delta, k)\n",
        "print('----------------------')\n",
        "\n",
        "if fungsi((x[0] - delta)) >= fungsi(x[0]) >= fungsi((x[0]+delta)):\n",
        "  print('Nilai delta Positif')\n",
        "  x.append((x[0] + 2**k*delta))\n",
        "elif fungsi((x[0] - delta)) <= fungsi(x[0]) <= fungsi((x[0]+delta)):\n",
        "  print('Nilai delta Negatif')\n",
        "  delta = -delta\n",
        "  x.append((x[0] + 2**k*delta))\n",
        "else:\n",
        "  print('Coba masukkan Nilai awal yang lain')\n",
        "\n",
        "while fungsi(x[k+1]) < fungsi(x[k]):\n",
        "  k = k+1\n",
        "  x.append(x[k] + 2**k*delta)\n",
        "  i = i+1\n",
        "else:\n",
        "  print('iterasi ke-' + str(i))\n",
        "  print('Nilai minimum berada diantara interval '+ str(x[k-1])+ ' dan '+ str(x[k+1]))\n",
        "\n",
        "t1 = time.time()\n",
        "print('Waktu Perhitungan adalah ' + str(t1-t0))"
      ],
      "execution_count": null,
      "outputs": [
        {
          "output_type": "stream",
          "name": "stdout",
          "text": [
            "3 0.001 0\n",
            "----------------------\n",
            "Nilai delta Positif\n",
            "iterasi ke-8\n",
            "Nilai minimum berada diantara interval 3.0629999999999997 dan 3.255\n",
            "Waktu Perhitungan adalah 0.0053327083587646484\n"
          ]
        }
      ]
    },
    {
      "cell_type": "markdown",
      "metadata": {
        "id": "wvszDsecVutm"
      },
      "source": [
        "##**Metode Interval Halfing**"
      ]
    },
    {
      "cell_type": "code",
      "metadata": {
        "colab": {
          "base_uri": "https://localhost:8080/"
        },
        "id": "RrbXsrhDV9rB",
        "outputId": "6daf453e-a470-497a-e74f-8f0e27b49b2a"
      },
      "source": [
        "t0 = time.time()\n",
        "\n",
        "a = 0.01; i = 1\n",
        "b = 4\n",
        "eps = 1e-2\n",
        "\n",
        "xm = (a+b)/2\n",
        "L = b-a\n",
        "\n",
        "print(a,b, eps, L, ym)\n",
        "print('---------------------')\n",
        "\n",
        "while L>=eps:\n",
        "  x1 = a+L/4\n",
        "  x2 = b-L/4\n",
        "  y1 = fungsi(x1)\n",
        "  y2 = fungsi(x2)\n",
        "  ym = fungsi(xm)\n",
        "  print(x1,x2)\n",
        "  print('---------------------')\n",
        "  if y1<ym:\n",
        "    b = xm\n",
        "    xm = x1\n",
        "    L = b-a\n",
        "  elif y2<ym:\n",
        "    a = xm\n",
        "    xm = x2\n",
        "    L = b-a\n",
        "  else:\n",
        "    a = x1\n",
        "    b = x2\n",
        "    L = b-a\n",
        "  i = i+1\n",
        "else:\n",
        "  print('iterasi ke-' + str(i))\n",
        "  print('Nilai minimum berada diantara interval :' + str(a) +' dan ' + str(b))\n",
        "\n",
        "t1 = time.time()\n",
        "print('Waktu Perhitungan adalah: ' +str(t1-t0))"
      ],
      "execution_count": null,
      "outputs": [
        {
          "output_type": "stream",
          "name": "stdout",
          "text": [
            "0.01 4 0.01 3.99 -12.060672339379064\n",
            "---------------------\n",
            "1.0075 3.0025\n",
            "---------------------\n",
            "2.50375 3.5012499999999998\n",
            "---------------------\n",
            "2.753125 3.251875\n",
            "---------------------\n",
            "2.8778125 3.1271875\n",
            "---------------------\n",
            "3.06484375 3.18953125\n",
            "---------------------\n",
            "3.096015625 3.158359375\n",
            "---------------------\n",
            "3.1116015625 3.1427734375\n",
            "---------------------\n",
            "3.11939453125 3.13498046875\n",
            "---------------------\n",
            "3.115498046875 3.123291015625\n",
            "---------------------\n",
            "iterasi ke-10\n",
            "Nilai minimum berada diantara interval :3.115498046875 dan 3.123291015625\n",
            "Waktu Perhitungan adalah: 0.006938457489013672\n"
          ]
        }
      ]
    },
    {
      "cell_type": "markdown",
      "metadata": {
        "id": "4irWrdjdv6S-"
      },
      "source": [
        "##**Metode Fibonacci**"
      ]
    },
    {
      "cell_type": "code",
      "metadata": {
        "id": "RQdpfCETwD5f"
      },
      "source": [
        "def fbnc(x):\n",
        "  if x < 1:\n",
        "    return 1\n",
        "  elif x==1 or x==2:\n",
        "    return 1\n",
        "  else:\n",
        "    return fbnc(x-1)+fbnc(x-2)"
      ],
      "execution_count": null,
      "outputs": []
    },
    {
      "cell_type": "code",
      "metadata": {
        "colab": {
          "base_uri": "https://localhost:8080/"
        },
        "id": "iocYkUdEwC0p",
        "outputId": "ee4e8095-6eed-4ba0-ef7c-cf556f156df0"
      },
      "source": [
        "t0 = time.time()\n",
        "\n",
        "a = 0.1\n",
        "b = 5\n",
        "n = 10\n",
        "k = 2 ; i = 1\n",
        "\n",
        "while k != n:\n",
        "  L = b-a\n",
        "  L_k = (fbnc(n+1-k)/fbnc(n+1))*L\n",
        "  x1 = a+L_k\n",
        "  x2 = b-L_k\n",
        "\n",
        "  y1 = fungsi(x1);y2 = fungsi(x2)\n",
        "\n",
        "  if y1<y2:\n",
        "    b = x2\n",
        "    L = b-a\n",
        "  elif y2<y1:\n",
        "    a = x1\n",
        "    L = b-a\n",
        "  else:\n",
        "    a = x1\n",
        "    b = x2\n",
        "    L = b-a\n",
        "    k = k+1\n",
        "  i+=1\n",
        "\n",
        "else:\n",
        "  print('iterasi ke-' + str(i))\n",
        "  print('Nilai minimum berada diantara interval: ' + str(a) + ' dan '+ str(b))\n",
        "\n",
        "t1 = time.time()\n",
        "print('Waktu Perhitungan adalah: ' +str(t1-t0))"
      ],
      "execution_count": null,
      "outputs": [
        {
          "output_type": "stream",
          "name": "stdout",
          "text": [
            "iterasi ke-90\n",
            "Nilai minimum berada diantara interval: 3.1196329670138447 dan 3.1196329670284633\n",
            "Waktu Perhitungan adalah: 0.004345893859863281\n"
          ]
        }
      ]
    },
    {
      "cell_type": "markdown",
      "metadata": {
        "id": "BGQmBjro0qbD"
      },
      "source": [
        "##**Metode Golden Section**"
      ]
    },
    {
      "cell_type": "code",
      "metadata": {
        "id": "Q3SdQP6u0wkk"
      },
      "source": [
        "t0 = time.time()\n",
        "\n",
        "a_w = 0\n",
        "b_w = 0\n",
        "L_w = 1\n",
        "k = 1\n",
        "eps = 1e-2\n",
        "\n",
        "\n"
      ],
      "execution_count": null,
      "outputs": []
    }
  ]
}